{
 "cells": [
  {
   "cell_type": "code",
   "execution_count": 28,
   "id": "306629dd",
   "metadata": {},
   "outputs": [],
   "source": [
    "import numpy as np\n",
    "import os\n",
    "import math\n",
    "import matplotlib\n",
    "import matplotlib.pyplot as plt\n",
    "from sklearn.neural_network import MLPClassifier\n",
    "from sklearn.datasets import fetch_openml\n",
    "from sklearn.model_selection import train_test_split\n",
    "from sklearn.metrics import accuracy_score\n",
    "from sklearn.metrics import classification_report\n",
    "import seaborn as sns \n",
    "from sklearn.metrics import confusion_matrix\n",
    "\n"
   ]
  },
  {
   "cell_type": "code",
   "execution_count": 6,
   "id": "dea1767e",
   "metadata": {},
   "outputs": [
    {
     "name": "stdout",
     "output_type": "stream",
     "text": [
      "(70000, 784)\n"
     ]
    }
   ],
   "source": [
    "x,y = fetch_openml('mnist_784' ,version=1,cache=True , return_X_y=True)#fetch image data \n",
    "y=y.astype(int)#convert y to int "
   ]
  },
  {
   "cell_type": "code",
   "execution_count": 12,
   "id": "22482ca3",
   "metadata": {},
   "outputs": [
    {
     "name": "stdout",
     "output_type": "stream",
     "text": [
      "Data size : 70000 x 784 and label size 70000\n",
      "the images are of size:28.0 x 28.0\n"
     ]
    }
   ],
   "source": [
    "print('Data size : {0} x {1} and label size {2}'.format(x.shape[0] , x.shape[1] , y.shape[0]))\n",
    "print('the images are of size:{0} x {0}'.format(math.sqrt (x.shape[1])))\n"
   ]
  },
  {
   "cell_type": "code",
   "execution_count": 19,
   "id": "e019c25e",
   "metadata": {},
   "outputs": [
    {
     "name": "stdout",
     "output_type": "stream",
     "text": [
      "7293\n"
     ]
    }
   ],
   "source": [
    "index7 = np.where(y==7)[0] #where y = 7 \n",
    "print(index7.shape[0]) #index which has number 7 "
   ]
  },
  {
   "cell_type": "code",
   "execution_count": 22,
   "id": "add1a3b0",
   "metadata": {},
   "outputs": [
    {
     "data": {
      "text/plain": [
       "<matplotlib.image.AxesImage at 0x1fa0e841850>"
      ]
     },
     "execution_count": 22,
     "metadata": {},
     "output_type": "execute_result"
    },
    {
     "data": {
      "image/png": "[encoded data removed]",
      "text/plain": [
       "<Figure size 432x288 with 1 Axes>"
      ]
     },
     "metadata": {
      "needs_background": "light"
     },
     "output_type": "display_data"
    }
   ],
   "source": [
    "pick = index7[np.random.choice(index7.shape[0])]#choose random number from index of number 7\n",
    "digit_7 = x[pick , : ] # pixels of this number \n",
    "digit_7_image = digit_7.reshape(28 , 28) #reshape it as 28 * 28\n",
    "plt.imshow(digit_7_image , cmap= matplotlib.cm.binary)#draw it "
   ]
  },
  {
   "cell_type": "code",
   "execution_count": 23,
   "id": "af5978ec",
   "metadata": {},
   "outputs": [
    {
     "name": "stdout",
     "output_type": "stream",
     "text": [
      " The Number of Training data is = 63000\n",
      " The Number of Training data is = 7000\n"
     ]
    }
   ],
   "source": [
    "x_train,x_test,y_train,y_test = train_test_split(x , y , test_size=0.1 , stratify=y , random_state=42)\n",
    "print( \" The Number of Training data is =\" ,x_train.shape[0] )\n",
    "print( \" The Number of Training data is =\" ,x_test.shape[0] )"
   ]
  },
  {
   "cell_type": "markdown",
   "id": "337a2c35",
   "metadata": {},
   "source": [
    "# Binary Classfier\n"
   ]
  },
  {
   "cell_type": "code",
   "execution_count": 24,
   "id": "6711afca",
   "metadata": {},
   "outputs": [
    {
     "name": "stdout",
     "output_type": "stream",
     "text": [
      "Iteration 1, loss = 1.74565354\n",
      "Iteration 2, loss = 0.63608713\n",
      "Iteration 3, loss = 0.50121972\n",
      "Iteration 4, loss = 0.43127443\n",
      "Iteration 5, loss = 0.34738759\n",
      "Iteration 6, loss = 0.32208259\n",
      "Iteration 7, loss = 0.30195669\n",
      "Iteration 8, loss = 0.27716757\n",
      "Iteration 9, loss = 0.26307004\n",
      "Iteration 10, loss = 0.25356449\n",
      "Iteration 11, loss = 0.24461029\n",
      "Iteration 12, loss = 0.23339430\n",
      "Iteration 13, loss = 0.22743475\n",
      "Iteration 14, loss = 0.22020099\n",
      "Iteration 15, loss = 0.21255749\n",
      "Iteration 16, loss = 0.20841867\n",
      "Iteration 17, loss = 0.20403079\n",
      "Iteration 18, loss = 0.20125787\n",
      "Iteration 19, loss = 0.19708612\n",
      "Iteration 20, loss = 0.19339597\n"
     ]
    },
    {
     "name": "stderr",
     "output_type": "stream",
     "text": [
      "C:\\Users\\tamer\\anaconda3\\lib\\site-packages\\sklearn\\neural_network\\_multilayer_perceptron.py:614: ConvergenceWarning: Stochastic Optimizer: Maximum iterations (20) reached and the optimization hasn't converged yet.\n",
      "  warnings.warn(\n"
     ]
    },
    {
     "data": {
      "text/plain": [
       "MLPClassifier(max_iter=20, solver='sgd', verbose='true')"
      ]
     },
     "execution_count": 24,
     "metadata": {},
     "output_type": "execute_result"
    }
   ],
   "source": [
    "y_train_7 = (y_train == 7) # true // false \n",
    "y_test_7 = (y_test == 7) \n",
    "MLP_model = MLPClassifier( max_iter=20 ,solver='sgd' , verbose='true')\n",
    "MLP_model.fit(x_train , y_train)"
   ]
  },
  {
   "cell_type": "code",
   "execution_count": 28,
   "id": "64dd8c69",
   "metadata": {},
   "outputs": [
    {
     "name": "stdout",
     "output_type": "stream",
     "text": [
      "3\n",
      "(100,)\n",
      "layer 0 weights (784, 100) Bias is (100,)\n",
      "layer 1 weights (100, 10) Bias is (10,)\n"
     ]
    }
   ],
   "source": [
    "print(MLP_model.n_layers_ ) #hidden layer \n",
    "print( MLP_model.hidden_layer_sizes) #hidden layer size\n",
    "\n",
    "for layer in range (MLP_model.n_layers_-1):\n",
    "    print(\"layer\", layer , \"weights\" , MLP_model.coefs_[layer].shape , \"Bias is\",MLP_model.intercepts_[layer].shape)"
   ]
  },
  {
   "cell_type": "code",
   "execution_count": 25,
   "id": "8f90003d",
   "metadata": {},
   "outputs": [],
   "source": [
    "y_pred = MLP_model.predict(x_train)\n",
    "y_pred_test = MLP_model.predict(x_test)\n"
   ]
  },
  {
   "cell_type": "code",
   "execution_count": 29,
   "id": "91caebac",
   "metadata": {},
   "outputs": [],
   "source": [
    "def drawing_conf_matrix (y_actual , y_predict):\n",
    "    print(classification_report (y_actual , y_predict))\n",
    "    \n",
    "    conf_mat = confusion_matrix( y_actual , y_predict)\n",
    "    \n",
    "    print(conf_mat)\n",
    "    sns.heatmap(conf_mat , annot= True , fmt = \"\")\n",
    "    plt.ylabel('True label')\n",
    "    plt.xlabel('predict label')\n"
   ]
  },
  {
   "cell_type": "code",
   "execution_count": 30,
   "id": "f1e3431d",
   "metadata": {},
   "outputs": [
    {
     "name": "stderr",
     "output_type": "stream",
     "text": [
      "C:\\Users\\tamer\\anaconda3\\lib\\site-packages\\sklearn\\metrics\\_classification.py:1245: UndefinedMetricWarning: Recall and F-score are ill-defined and being set to 0.0 in labels with no true samples. Use `zero_division` parameter to control this behavior.\n",
      "  _warn_prf(average, modifier, msg_start, len(result))\n",
      "C:\\Users\\tamer\\anaconda3\\lib\\site-packages\\sklearn\\metrics\\_classification.py:1245: UndefinedMetricWarning: Recall and F-score are ill-defined and being set to 0.0 in labels with no true samples. Use `zero_division` parameter to control this behavior.\n",
      "  _warn_prf(average, modifier, msg_start, len(result))\n",
      "C:\\Users\\tamer\\anaconda3\\lib\\site-packages\\sklearn\\metrics\\_classification.py:1245: UndefinedMetricWarning: Recall and F-score are ill-defined and being set to 0.0 in labels with no true samples. Use `zero_division` parameter to control this behavior.\n",
      "  _warn_prf(average, modifier, msg_start, len(result))\n"
     ]
    },
    {
     "name": "stdout",
     "output_type": "stream",
     "text": [
      "              precision    recall  f1-score   support\n",
      "\n",
      "           0       1.00      0.11      0.20     56436\n",
      "           1       0.00      0.00      0.00      6564\n",
      "           2       0.00      0.00      0.00         0\n",
      "           3       0.00      0.00      0.00         0\n",
      "           4       0.00      0.00      0.00         0\n",
      "           5       0.00      0.00      0.00         0\n",
      "           6       0.00      0.00      0.00         0\n",
      "           7       0.00      0.00      0.00         0\n",
      "           8       0.00      0.00      0.00         0\n",
      "           9       0.00      0.00      0.00         0\n",
      "\n",
      "    accuracy                           0.10     63000\n",
      "   macro avg       0.10      0.01      0.02     63000\n",
      "weighted avg       0.90      0.10      0.18     63000\n",
      "\n",
      "[[6296 6970 6158 6565 5741 5247 6256  203 6377 6623]\n",
      " [   6    9   61  105   19    3    1 6223   12  125]\n",
      " [   0    0    0    0    0    0    0    0    0    0]\n",
      " [   0    0    0    0    0    0    0    0    0    0]\n",
      " [   0    0    0    0    0    0    0    0    0    0]\n",
      " [   0    0    0    0    0    0    0    0    0    0]\n",
      " [   0    0    0    0    0    0    0    0    0    0]\n",
      " [   0    0    0    0    0    0    0    0    0    0]\n",
      " [   0    0    0    0    0    0    0    0    0    0]\n",
      " [   0    0    0    0    0    0    0    0    0    0]]\n"
     ]
    },
    {
     "data": {
      "image/png": "[encoded data removed]",
      "text/plain": [
       "<Figure size 432x288 with 2 Axes>"
      ]
     },
     "metadata": {
      "needs_background": "light"
     },
     "output_type": "display_data"
    }
   ],
   "source": [
    "drawing_conf_matrix(y_train_7 , y_pred)"
   ]
  },
  {
   "cell_type": "code",
   "execution_count": null,
   "id": "889f5e36",
   "metadata": {},
   "outputs": [],
   "source": []
  }
 ],
 "metadata": {
  "kernelspec": {
   "display_name": "Python 3",
   "language": "python",
   "name": "python3"
  },
  "language_info": {
   "codemirror_mode": {
    "name": "ipython",
    "version": 3
   },
   "file_extension": ".py",
   "mimetype": "text/x-python",
   "name": "python",
   "nbconvert_exporter": "python",
   "pygments_lexer": "ipython3",
   "version": "3.8.8"
  }
 },
 "nbformat": 4,
 "nbformat_minor": 5
}
